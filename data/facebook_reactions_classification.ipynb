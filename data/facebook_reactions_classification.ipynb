{
 "cells": [
  {
   "cell_type": "markdown",
   "metadata": {},
   "source": [
    "# Classifying the Emotions of Facebook Posts Using Reactions Data\n",
    "\n",
    "by Max Woolf (@minimaxir)\n",
    "\n",
    "*This notebook is licensed under the MIT License. If you use the code or data visualization designs contained within this notebook, it would be greatly appreciated if proper attribution is given back to this notebook and/or myself. Thanks! :)*"
   ]
  },
  {
   "cell_type": "code",
   "execution_count": 297,
   "metadata": {
    "collapsed": false
   },
   "outputs": [
    {
     "data": {
      "text/plain": [
       "R version 3.3.0 (2016-05-03)\n",
       "Platform: x86_64-apple-darwin13.4.0 (64-bit)\n",
       "Running under: OS X 10.11.4 (El Capitan)\n",
       "\n",
       "locale:\n",
       "[1] en_US.UTF-8/en_US.UTF-8/en_US.UTF-8/C/en_US.UTF-8/en_US.UTF-8\n",
       "\n",
       "attached base packages:\n",
       "[1] grid      stats     graphics  grDevices utils     datasets  methods  \n",
       "[8] base     \n",
       "\n",
       "other attached packages:\n",
       " [1] tidyr_0.4.1        htmlwidgets_0.6    viridis_0.3.4      plotly_3.6.0      \n",
       " [5] stringr_1.0.0      digest_0.6.9       RColorBrewer_1.1-2 scales_0.4.0      \n",
       " [9] extrafont_0.17     ggplot2_2.1.0      dplyr_0.4.3        readr_0.2.2       \n",
       "\n",
       "loaded via a namespace (and not attached):\n",
       " [1] Rcpp_0.12.4      plyr_1.8.3       base64enc_0.1-3  tools_3.3.0     \n",
       " [5] uuid_0.1-2       jsonlite_0.9.19  evaluate_0.9     gtable_0.2.0    \n",
       " [9] IRdisplay_0.3    DBI_0.4          yaml_2.1.13      IRkernel_0.5    \n",
       "[13] parallel_3.3.0   rzmq_0.7.7       gridExtra_2.2.1  Rttf2pt1_1.3.3  \n",
       "[17] repr_0.4         httr_1.1.0       R6_2.1.2         extrafontdb_1.0 \n",
       "[21] magrittr_1.5     htmltools_0.3.5  assertthat_0.1   colorspace_1.2-6\n",
       "[25] labeling_0.3     stringi_1.0-1    lazyeval_0.1.10  munsell_0.4.3   "
      ]
     },
     "execution_count": 297,
     "metadata": {},
     "output_type": "execute_result"
    }
   ],
   "source": [
    "options(warn=1)\n",
    "\n",
    "source(\"Rstart.R\")\n",
    "\n",
    "library(plotly)\n",
    "library(htmlwidgets)\n",
    "library(tidyr)\n",
    "\n",
    "sessionInfo()"
   ]
  },
  {
   "cell_type": "code",
   "execution_count": 277,
   "metadata": {
    "collapsed": false,
    "scrolled": false
   },
   "outputs": [
    {
     "name": "stdout",
     "output_type": "stream",
     "text": [
      "Source: local data frame [6 x 15]\n",
      "\n",
      "                     status_id\n",
      "                         (chr)\n",
      "1 5550296508_10154953526846509\n",
      "2 5550296508_10154953465071509\n",
      "3 5550296508_10154953390456509\n",
      "4 5550296508_10154952135926509\n",
      "5 5550296508_10154952030666509\n",
      "6 5550296508_10154952002266509\n",
      "Variables not shown: status_message (chr), link_name (chr), status_type (chr),\n",
      "  status_link (chr), status_published (time), num_reactions (int), num_comments\n",
      "  (int), num_shares (int), num_likes (int), num_loves (int), num_wows (int),\n",
      "  num_hahas (int), num_sads (int), num_angrys (int)\n",
      "[1] 4629\n"
     ]
    }
   ],
   "source": [
    "df <- read_csv(\"cnn_facebook_statuses.csv\") %>% filter(status_published > '2016-02-24 00:00:00')\n",
    "\n",
    "df %>% head() %>% print()\n",
    "df %>% nrow() %>% print()"
   ]
  },
  {
   "cell_type": "markdown",
   "metadata": {},
   "source": [
    "Check correlation between variables for redundancy checks."
   ]
  },
  {
   "cell_type": "code",
   "execution_count": 278,
   "metadata": {
    "collapsed": false,
    "scrolled": true
   },
   "outputs": [
    {
     "name": "stdout",
     "output_type": "stream",
     "text": [
      "           num_likes num_loves num_wows num_hahas num_sads num_angrys\n",
      "num_likes       1.00      0.80     0.46      0.23     0.27       0.12\n",
      "num_loves       0.80      1.00     0.22      0.15     0.29       0.03\n",
      "num_wows        0.46      0.22     1.00      0.08     0.12       0.09\n",
      "num_hahas       0.23      0.15     0.08      1.00    -0.04       0.09\n",
      "num_sads        0.27      0.29     0.12     -0.04     1.00       0.20\n",
      "num_angrys      0.12      0.03     0.09      0.09     0.20       1.00\n"
     ]
    }
   ],
   "source": [
    "df %>% select(num_likes,num_loves,num_wows,num_hahas,num_sads,num_angrys) %>%\n",
    "        cor() %>%\n",
    "        round(2) %>%\n",
    "        print()"
   ]
  },
  {
   "cell_type": "markdown",
   "metadata": {},
   "source": [
    "Hardcode reactions colors (normally, you could use factors, but that is complicated since reactions may be missing for some Pages)"
   ]
  },
  {
   "cell_type": "code",
   "execution_count": 279,
   "metadata": {
    "collapsed": true
   },
   "outputs": [],
   "source": [
    "reactions <- c(\"Love\",\"Wow\",\"Haha\",\"Sad\",\"Angry\")\n",
    "\n",
    "colors <- tbl_df(data.frame(react_type=reactions, color=c(\"#e74c3c\",\"#f1c40f\",\"#e67e22\",\"#2980b9\",\"#8e44ad\")))"
   ]
  },
  {
   "cell_type": "markdown",
   "metadata": {},
   "source": [
    "Helper function to get the `title` of a post; if no title exists, use the `message` instead."
   ]
  },
  {
   "cell_type": "code",
   "execution_count": 280,
   "metadata": {
    "collapsed": false,
    "scrolled": true
   },
   "outputs": [
    {
     "name": "stdout",
     "output_type": "stream",
     "text": [
      "Source: local data frame [6 x 1]\n",
      "\n",
      "                                                               tooltip_title\n",
      "                                                                       (chr)\n",
      "1 Selena Gomez, Yoko Ono and Lady Gaga sign open letter to stop gun violence\n",
      "2                                  Tornado in China kills at least 51 people\n",
      "3                                               Supreme Court cases to watch\n",
      "4                                   GOP congressman: 'This isn't about guns'\n",
      "5                         Democrats continue their sit-in on the House floor\n",
      "6                                     Rep. John Lewis goes back to his roots\n"
     ]
    }
   ],
   "source": [
    "get_tooltip_title <- function(x) {\n",
    "    ifelse(is.na(x[3]) | x[3] == \"Timeline Photos\",\n",
    "           ifelse(is.na(x[2]), \"[No Message]\", paste0(substr(x[2],1,60),\"...\")), x[3])\n",
    "}\n",
    "\n",
    "df$tooltip_title <- as.character(apply(df, 1, get_tooltip_title))\n",
    "\n",
    "df %>% head() %>% select(tooltip_title) %>% print()"
   ]
  },
  {
   "cell_type": "markdown",
   "metadata": {},
   "source": [
    "Helper functions:\n",
    "\n",
    "* Get the value of the Max percentage in a Post\n",
    "* Get the Emotion it corresponds to.\n",
    "* Construct the tooltip using the data above."
   ]
  },
  {
   "cell_type": "code",
   "execution_count": 281,
   "metadata": {
    "collapsed": false
   },
   "outputs": [
    {
     "data": {
      "text/html": [
       "'0.73584906'"
      ],
      "text/latex": [
       "'0.73584906'"
      ],
      "text/markdown": [
       "'0.73584906'"
      ],
      "text/plain": [
       "[1] \"0.73584906\""
      ]
     },
     "execution_count": 281,
     "metadata": {},
     "output_type": "execute_result"
    },
    {
     "data": {
      "text/html": [
       "'Love'"
      ],
      "text/latex": [
       "'Love'"
      ],
      "text/markdown": [
       "'Love'"
      ],
      "text/plain": [
       "[1] \"Love\""
      ]
     },
     "execution_count": 281,
     "metadata": {},
     "output_type": "execute_result"
    },
    {
     "data": {
      "text/html": [
       "'test<br>73.6% Love out of 5,353 Reactions'"
      ],
      "text/latex": [
       "'test<br>73.6% Love out of 5,353 Reactions'"
      ],
      "text/markdown": [
       "'test<br>73.6% Love out of 5,353 Reactions'"
      ],
      "text/plain": [
       "[1] \"test<br>73.6% Love out of 5,353 Reactions\""
      ]
     },
     "execution_count": 281,
     "metadata": {},
     "output_type": "execute_result"
    }
   ],
   "source": [
    "reactions <- c(\"Love\",\"Wow\",\"Haha\",\"Sad\",\"Angry\")\n",
    "\n",
    "get_max_perc <- function(x) {\n",
    "    max(x[2],x[3],x[4],x[5],x[6])\n",
    "}\n",
    "\n",
    "get_max_reaction_type <- function(x) {\n",
    "    if (x[7]==0) {return (NA)}\n",
    "    reactions[which(c(x[2],x[3],x[4],x[5],x[6])==x[8])]\n",
    "}\n",
    "\n",
    "get_tooltip <- function(x) {\n",
    "    sprintf(\"%s<br>%0.1f%% %s out of %s Reactions\", x[1],as.numeric(x[8])*100,x[9],format(as.numeric(x[7]), big.mark=\",\"))\n",
    "}\n",
    "\n",
    "\n",
    "\n",
    "get_max_perc(c(\"test\", 0.73584906,0.01886792,0.00000000,0.207547170,0.03773585,53))\n",
    "get_max_reaction_type(c(\"test\", 0.73584906,0.01886792,0.00000000,0.207547170,0.03773585,53,0.73584906))\n",
    "get_tooltip(c(\"test\", 0.73584906,0.01886792,0.00000000,0.207547170,0.03773585,5353,0.73584906,\"Love\"))"
   ]
  },
  {
   "cell_type": "markdown",
   "metadata": {},
   "source": [
    "Get percentages, then process row-wise using the helper functions above."
   ]
  },
  {
   "cell_type": "code",
   "execution_count": 282,
   "metadata": {
    "collapsed": false
   },
   "outputs": [
    {
     "name": "stdout",
     "output_type": "stream",
     "text": [
      "Source: local data frame [6 x 8]\n",
      "\n",
      "   perc_wows perc_hahas  perc_sads perc_angrys total_reactions     max_perc\n",
      "       (dbl)      (dbl)      (dbl)       (dbl)           (int)        (chr)\n",
      "1 0.00000000 0.12500000 0.00000000 0.125000000               8  0.750000000\n",
      "2 0.36391437 0.01223242 0.61162080 0.003058104             327 0.6116207951\n",
      "3 0.36363636 0.09090909 0.09090909 0.090909091              11  0.363636364\n",
      "4 0.03169014 0.07746479 0.03521127 0.683098592             284 0.6830985915\n",
      "5 0.02885683 0.05401406 0.01960784 0.173140954            2703  0.724380318\n",
      "6 0.00896861 0.14349776 0.01345291 0.044843049             223  0.789237668\n",
      "Variables not shown: react_type (chr), tooltip (chr)\n"
     ]
    }
   ],
   "source": [
    "df_agg <- df %>% mutate(total_reactions=num_loves+num_wows+num_hahas+num_sads+num_angrys,\n",
    "                          perc_loves=num_loves/total_reactions,\n",
    "                          perc_wows=num_wows/total_reactions,\n",
    "                          perc_hahas=num_hahas/total_reactions,\n",
    "                          perc_sads=num_sads/total_reactions,\n",
    "                          perc_angrys=num_angrys/total_reactions) %>%\n",
    "                select(tooltip_title, perc_loves,perc_wows,perc_hahas,perc_sads,perc_angrys, total_reactions)\n",
    "\n",
    "df_agg$max_perc <- apply(df_agg, 1, get_max_perc)\n",
    "df_agg$react_type <- as.character(apply(df_agg, 1, get_max_reaction_type))\n",
    "df_agg$tooltip <- as.character(apply(df_agg, 1, get_tooltip))\n",
    "\n",
    "df_agg %>% select(-tooltip_title,-perc_loves) %>% head() %>% print()"
   ]
  },
  {
   "cell_type": "markdown",
   "metadata": {},
   "source": [
    "Add color information and filter on the 75% threshold. Note we must conduct [one-sided z test on proportion](https://onlinecourses.science.psu.edu/stat200/node/53)."
   ]
  },
  {
   "cell_type": "code",
   "execution_count": 286,
   "metadata": {
    "collapsed": false
   },
   "outputs": [
    {
     "name": "stderr",
     "output_type": "stream",
     "text": [
      "Joining by: \"react_type\"\n"
     ]
    },
    {
     "name": "stdout",
     "output_type": "stream",
     "text": [
      "Source: local data frame [6 x 3]\n",
      "\n",
      "  react_type  max_perc   color\n",
      "      (fctr)     (dbl)  (fctr)\n",
      "1        Wow 0.8750000 #f1c40f\n",
      "2        Sad 0.9237805 #2980b9\n",
      "3        Wow 0.8690808 #f1c40f\n",
      "4       Haha 0.9019992 #e67e22\n",
      "5       Haha 0.7905687 #e67e22\n",
      "6        Sad 0.8496241 #2980b9\n"
     ]
    }
   ],
   "source": [
    "df_agg_long <- df_agg %>%\n",
    "                    select(react_type, max_perc, tooltip,total_reactions) %>%\n",
    "                    left_join(colors) %>%\n",
    "                    mutate(react_type=factor(react_type), max_perc=as.numeric(max_perc)) %>%\n",
    "                    filter(max_perc >= 0.75,\n",
    "                           total_reactions > 20,\n",
    "                           (max_perc - 0.75)/sqrt(max_perc*(1-max_perc)/total_reactions) > qnorm(0.99))\n",
    "\n",
    "#write.csv(df_agg_long,\"df_agg_long.csv\",row.names=F)\n",
    "df_agg_long %>% select(react_type, max_perc, color) %>% head() %>% print()"
   ]
  },
  {
   "cell_type": "code",
   "execution_count": 306,
   "metadata": {
    "collapsed": false
   },
   "outputs": [],
   "source": [
    "plot <- ggplot(data=df_agg_long, aes(x=react_type, y=max_perc, color=color)) +\n",
    "            geom_point(position = position_jitter(width = 0.5), size=1, shape=1) +\n",
    "            fte_theme() +\n",
    "            coord_flip() +\n",
    "            scale_x_discrete() +\n",
    "            scale_y_continuous(limits=c(0.75,1.02), breaks=seq(0.75,1,by=0.05), labels=percent) +\n",
    "            scale_color_identity() +\n",
    "            theme(axis.title.y=element_blank()) +\n",
    "            labs(y=\"% of Type of Facebook Reactions on Post\", title=\"User Reactions on CNN's Facebook Posts\")\n",
    "\n",
    "max_save(plot, \"facebook-reaction-1\", \"Facebook\")"
   ]
  },
  {
   "cell_type": "markdown",
   "metadata": {},
   "source": [
    "![](facebook-reaction-1.png)"
   ]
  },
  {
   "cell_type": "code",
   "execution_count": 307,
   "metadata": {
    "collapsed": false
   },
   "outputs": [],
   "source": [
    "theme_color <- \"#f7f8fa\"\n",
    "\n",
    "i_plot <- ggplot(data=df_agg_long, aes(x=react_type, y=max_perc, color=color, text=tooltip)) +\n",
    "            geom_point(position = position_jitter(width = 0.75), size=2, shape=1) +\n",
    "            fte_theme() +\n",
    "            coord_flip() +\n",
    "            scale_x_discrete() +\n",
    "            scale_y_continuous(limits=c(0.75,1.02), breaks=seq(0.75,1.00,by=0.05), labels=percent) +\n",
    "            scale_color_identity() +\n",
    "            theme(axis.title.y=element_blank(),\n",
    "                  axis.title.x = element_text(size = 10),\n",
    "                  axis.text.x = element_text(size = 14, family = \"Source Sans Pro\"),\n",
    "                  axis.text.y = element_text(size = 14, family = \"Source Sans Pro\"),\n",
    "                  plot.title=element_text(size = 18)) +\n",
    "            theme(plot.background=element_rect(fill=theme_color), \n",
    "                  panel.background=element_rect(fill=theme_color),\n",
    "                  panel.border=element_rect(color=theme_color),\n",
    "                  strip.background=element_rect(fill=theme_color)) +\n",
    "            labs(y=\"% of Type of Facebook Reactions on Post\", title=\"User Reactions on CNN's Facebook Posts\")\n",
    "\n",
    "## plot.ly settings\n",
    "i_plot <- i_plot %>%\n",
    "    ggplotly(tooltip=c(\"text\")) %>%\n",
    "    config(displaylogo = F, scrollZoom = F, modeBarButtonsToRemove = list('sendDataToCloud', 'toImage'))\n",
    "\n",
    "\n",
    "## Cannot use as.widget() due to bad defaults; must createWidget the hard way\n",
    "createWidget(name=\"plotly\",x=plotly_build(i_plot), sizingPolicy=sizingPolicy(browser.padding = 0, \n",
    "            browser.fill = F, defaultWidth = \"100%\", defaultHeight = 400)) %>%\n",
    "saveWidget(\"cnn-header-fb.html\", selfcontained=F, libdir=\"plotly\")"
   ]
  },
  {
   "cell_type": "markdown",
   "metadata": {},
   "source": [
    "## Turn Chart into single function"
   ]
  },
  {
   "cell_type": "code",
   "execution_count": 264,
   "metadata": {
    "collapsed": true
   },
   "outputs": [],
   "source": [
    "make_mood_matrix <- function(app_id, app_secret, page_id, get_data=T) {\n",
    "    \n",
    "    if (get_data) {\n",
    "    system(sprintf(\"python get_fb_posts_fb_page_mod.py %s %s %s\", app_id, app_secret, page_id))\n",
    "    }\n",
    "    \n",
    "    df <- read_csv(sprintf(\"%s_facebook_statuses.csv\", page_id)) %>% filter(status_published > '2016-02-24 00:00:00')\n",
    "    if (nrow(df) == 0) {return(NA)}\n",
    "    \n",
    "    df$tooltip_title <- as.character(apply(df, 1, get_tooltip_title))\n",
    "    \n",
    "    df_agg <- df %>% mutate(total_reactions=num_loves+num_wows+num_hahas+num_sads+num_angrys,\n",
    "                          perc_loves=num_loves/total_reactions,\n",
    "                          perc_wows=num_wows/total_reactions,\n",
    "                          perc_hahas=num_hahas/total_reactions,\n",
    "                          perc_sads=num_sads/total_reactions,\n",
    "                          perc_angrys=num_angrys/total_reactions) %>%\n",
    "                select(tooltip_title, perc_loves,perc_wows,perc_hahas,perc_sads,perc_angrys, total_reactions)\n",
    "\n",
    "    df_agg$max_perc <- apply(df_agg, 1, get_max_perc)\n",
    "    df_agg$react_type <- as.character(apply(df_agg, 1, get_max_reaction_type))\n",
    "    df_agg$tooltip <- as.character(apply(df_agg, 1, get_tooltip))\n",
    "    \n",
    "    df_agg_long <- df_agg %>%\n",
    "                    select(react_type, max_perc, tooltip,total_reactions) %>%\n",
    "                    left_join(colors) %>%\n",
    "                    mutate(react_type=factor(react_type), max_perc=as.numeric(max_perc)) %>%\n",
    "                    filter(max_perc >= 0.75,\n",
    "                           total_reactions > 20,\n",
    "                           (max_perc - 0.75)/sqrt(max_perc*(1-max_perc)/total_reactions) > qnorm(0.99))\n",
    "    \n",
    "    i_plot <- ggplot(data=df_agg_long, aes(x=react_type, y=max_perc, color=color, text=tooltip)) +\n",
    "            geom_point(position = position_jitter(width = 0.75), size=2, shape=1) +\n",
    "            fte_theme() +\n",
    "            coord_flip() +\n",
    "            scale_x_discrete() +\n",
    "            scale_y_continuous(limits=c(0.75,1), breaks=seq(0.75,1.00,by=0.05), labels=percent) +\n",
    "            scale_color_identity() +\n",
    "            theme(axis.title.y=element_blank(),\n",
    "                  axis.title.x = element_text(size = 10, color=\"#525252\"),\n",
    "                  axis.text.x = element_text(size = 14, family = \"Source Sans Pro\", color=\"#737373\"),\n",
    "                  axis.text.y = element_text(size = 14, family = \"Source Sans Pro\", color=\"#737373\"),\n",
    "                  plot.title=element_text(size = 18)) +\n",
    "            labs(y=\"% of Type of Facebook Reactions on Post\", title=sprintf(\"User Reactions on %s's Facebook Posts\", page_id))\n",
    "\n",
    "    i_plot <- i_plot %>%\n",
    "        ggplotly(tooltip=c(\"text\")) %>%\n",
    "        config(displaylogo = F, scrollZoom = F, modeBarButtonsToRemove = list('sendDataToCloud', 'toImage'))\n",
    "\n",
    "    createWidget(name=\"plotly\",x=plotly_build(i_plot), sizingPolicy=sizingPolicy(browser.padding = 0, \n",
    "                browser.fill = F, defaultWidth = \"100%\", defaultHeight = 400)) %>%\n",
    "    saveWidget(sprintf(\"%s-interactive-fb.html\", page_id), selfcontained=F, libdir=\"plotly\")\n",
    "\n",
    "}"
   ]
  },
  {
   "cell_type": "code",
   "execution_count": 167,
   "metadata": {
    "collapsed": true
   },
   "outputs": [],
   "source": [
    "app_id <- \"<FILL IN>\"\n",
    "app_secret <- \"<FILL IN>\" # DO NOT SHARE WITH ANYONE!\n",
    "page_id <- \"nytimes\"\n",
    "\n",
    "make_mood_matrix(app_id, app_secret, page_id)"
   ]
  },
  {
   "cell_type": "code",
   "execution_count": 226,
   "metadata": {
    "collapsed": false
   },
   "outputs": [
    {
     "name": "stderr",
     "output_type": "stream",
     "text": [
      "Joining by: \"react_type\"\n",
      "Warning message:\n",
      "In left_join_impl(x, y, by$x, by$y): joining factor and character vector, coercing into character vector"
     ]
    }
   ],
   "source": [
    "make_mood_matrix(app_id, app_secret, \"berniesanders\", F)"
   ]
  },
  {
   "cell_type": "code",
   "execution_count": 261,
   "metadata": {
    "collapsed": false
   },
   "outputs": [
    {
     "name": "stdout",
     "output_type": "stream",
     "text": [
      "                 X11                  X12                  X13 \n",
      "         \"cristiano\"               \"cavs\"          \"vindiesel\" \n",
      "                 X14                  X15                  X16 \n",
      "               \"nba\"     \"huffingtonpost\"            \"abcnews\" \n",
      "                 X17                  X18                  X19 \n",
      "    \"bleacherreport\" \"goodmorningamerica\"            \"foxnews\" \n",
      "                X110 \n",
      "      \"jasonstatham\" \n"
     ]
    }
   ],
   "source": [
    "pages <- unlist(read_delim(\"top_fb_pages.txt\", \"\\n\", col_names=F))\n",
    "\n",
    "print(pages[1:10])"
   ]
  },
  {
   "cell_type": "code",
   "execution_count": null,
   "metadata": {
    "collapsed": false
   },
   "outputs": [],
   "source": [
    "start_index <- 41\n",
    "\n",
    "invisible(lapply(pages[start_index:length(pages)], function(x) make_mood_matrix(app_id, app_secret, x)))"
   ]
  },
  {
   "cell_type": "markdown",
   "metadata": {},
   "source": [
    "# The MIT License (MIT)\n",
    "\n",
    "Copyright (c) 2016 Max Woolf\n",
    "\n",
    "Permission is hereby granted, free of charge, to any person obtaining a copy of this software and associated documentation files (the \"Software\"), to deal in the Software without restriction, including without limitation the rights to use, copy, modify, merge, publish, distribute, sublicense, and/or sell copies of the Software, and to permit persons to whom the Software is furnished to do so, subject to the following conditions:\n",
    "\n",
    "The above copyright notice and this permission notice shall be included in all copies or substantial portions of the Software.\n",
    "\n",
    "THE SOFTWARE IS PROVIDED \"AS IS\", WITHOUT WARRANTY OF ANY KIND, EXPRESS OR IMPLIED, INCLUDING BUT NOT LIMITED TO THE WARRANTIES OF MERCHANTABILITY, FITNESS FOR A PARTICULAR PURPOSE AND NONINFRINGEMENT. IN NO EVENT SHALL THE AUTHORS OR COPYRIGHT HOLDERS BE LIABLE FOR ANY CLAIM, DAMAGES OR OTHER LIABILITY, WHETHER IN AN ACTION OF CONTRACT, TORT OR OTHERWISE, ARISING FROM, OUT OF OR IN CONNECTION WITH THE SOFTWARE OR THE USE OR OTHER DEALINGS IN THE SOFTWARE."
   ]
  }
 ],
 "metadata": {
  "kernelspec": {
   "display_name": "R",
   "language": "R",
   "name": "ir"
  },
  "language_info": {
   "codemirror_mode": "r",
   "file_extension": ".r",
   "mimetype": "text/x-r-source",
   "name": "R",
   "pygments_lexer": "r",
   "version": "3.3.0"
  }
 },
 "nbformat": 4,
 "nbformat_minor": 0
}
